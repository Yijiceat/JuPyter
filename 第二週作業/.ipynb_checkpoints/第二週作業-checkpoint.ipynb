{
 "cells": [
  {
   "cell_type": "markdown",
   "metadata": {},
   "source": [
    "# 第一題【猜數字遊戲】：\n",
    "### 電腦由 1 到 100 「想」一個數字。\n",
    "### 你開始猜電腦想的數字, 太大或大小電腦會告訴你, 直到猜對。"
   ]
  },
  {
   "cell_type": "code",
   "execution_count": 9,
   "metadata": {},
   "outputs": [
    {
     "name": "stdout",
     "output_type": "stream",
     "text": [
      "Populating the interactive namespace from numpy and matplotlib\n"
     ]
    }
   ],
   "source": [
    "%pylab inline"
   ]
  },
  {
   "cell_type": "markdown",
   "metadata": {},
   "source": [
    "# 失敗品"
   ]
  },
  {
   "cell_type": "code",
   "execution_count": 57,
   "metadata": {},
   "outputs": [
    {
     "name": "stdout",
     "output_type": "stream",
     "text": [
      "這是一個猜數字遊戲，請輸入一組數字(1~100)\n",
      ">> dasfas\n",
      "請輸入數字喔!!\n",
      "輸入錯誤，程式結束\n"
     ]
    }
   ],
   "source": [
    "print (\"這是一個猜數字遊戲，請輸入一組數字(1~100)\")\n",
    "message = input('>> ')\n",
    "i = 0\n",
    "try:\n",
    "    i = int(message)\n",
    "    i = 1\n",
    "except :\n",
    "    print(\"請輸入數字喔!!\")\n",
    "while i == 1 :\n",
    "    k = randint(0,101)\n",
    "    start = 0\n",
    "    end = 100\n",
    "    while int(message) != int(k) :\n",
    "        if int(message) > int(k) :\n",
    "            end = int(message)-1\n",
    "            print(\"猜錯了喔!!數字介於{}及{}之間唷!!\".format(start,end))        \n",
    "            message = input('>> ')\n",
    "        elif int(message) < int(k) :\n",
    "            start = int(message)+1\n",
    "            print(\"猜錯了喔!!數字介於{}及{}之間唷!!\".format(start,end))\n",
    "            message = input('>> ')\n",
    "#    else start = end :\n",
    "#            print(\"答案很明顯囉~就是{}\".format(start))\n",
    "if i == 1 :\n",
    "    print(\"恭喜你猜對了~\")\n",
    "else :\n",
    "    print(\"輸入錯誤，程式結束\")"
   ]
  },
  {
   "cell_type": "markdown",
   "metadata": {
    "collapsed": true
   },
   "source": [
    "# 第二題【感恩讚嘆機器人】：\n",
    "### 請依照老師本週影片的作法，\n",
    "### 製作出感恩讚嘆機器人，\n",
    "### 也就是回應的格式一律是：\n",
    "### 「感恩ＯＯ，讚嘆ＯＯ。」"
   ]
  },
  {
   "cell_type": "code",
   "execution_count": 59,
   "metadata": {},
   "outputs": [
    {
     "name": "stdout",
     "output_type": "stream",
     "text": [
      ">> 453\n",
      "感恩炎龍，讚嘆炎龍\n"
     ]
    }
   ],
   "source": [
    "message = input(\">> \")\n",
    "seafood = \"炎龍\"\n",
    "print (\"感恩{}，讚嘆{}\".format(seafood,seafood))"
   ]
  },
  {
   "cell_type": "markdown",
   "metadata": {
    "collapsed": true
   },
   "source": [
    "# 第三題 【寫個函數讓字串倒過來排】：\n",
    "### 寫一個函數, 比如說叫 reverse,\n",
    "\n",
    "### 然後輸入一個字串, st = “hello”\n",
    "\n",
    "### reverse(“hello”) 就回傳這個字串 ‘olleh’"
   ]
  },
  {
   "cell_type": "code",
   "execution_count": 68,
   "metadata": {},
   "outputs": [
    {
     "name": "stdout",
     "output_type": "stream",
     "text": [
      ">> 感恩seafood,讚嘆seafood\n",
      "doofaes嘆讚,doofaes恩感\n"
     ]
    }
   ],
   "source": [
    "message = input(\">> \")\n",
    "def reverse (message) :\n",
    "    r = ''\n",
    "    for c in message :\n",
    "        r = c + r \n",
    "    return r\n",
    "print(reverse(message))   "
   ]
  },
  {
   "cell_type": "markdown",
   "metadata": {},
   "source": [
    "# 挑戰題一【天干地支】：\n",
    "\n",
    "### 年份是用天干地支\n",
    "\n",
    "#### 天干:甲乙丙丁戊己庚辛壬癸\n",
    "\n",
    "#### 地支:子丑寅卯辰巳午未申酉戌亥\n",
    "\n",
    "#### 2014年是甲午年 > 2015年是乙未年\n",
    "\n",
    "##### …\n",
    "\n",
    "##### 輸出2014~2073是什麼年"
   ]
  },
  {
   "cell_type": "code",
   "execution_count": 94,
   "metadata": {},
   "outputs": [
    {
     "name": "stdout",
     "output_type": "stream",
     "text": [
      "2014 : 甲午年。sky:0 - ground6\n",
      "2015 : 乙未年。sky:1 - ground7\n",
      "2016 : 丙申年。sky:2 - ground8\n",
      "2017 : 丁酉年。sky:3 - ground9\n",
      "2018 : 戊戌年。sky:4 - ground10\n",
      "2019 : 己亥年。sky:5 - ground11\n",
      "2020 : 庚子年。sky:6 - ground0\n",
      "2021 : 辛丑年。sky:7 - ground1\n",
      "2022 : 壬寅年。sky:8 - ground2\n",
      "2023 : 癸卯年。sky:9 - ground3\n",
      "2024 : 甲辰年。sky:0 - ground4\n",
      "2025 : 乙巳年。sky:1 - ground5\n",
      "2026 : 丙午年。sky:2 - ground6\n",
      "2027 : 丁未年。sky:3 - ground7\n",
      "2028 : 戊申年。sky:4 - ground8\n",
      "2029 : 己酉年。sky:5 - ground9\n",
      "2030 : 庚戌年。sky:6 - ground10\n",
      "2031 : 辛亥年。sky:7 - ground11\n",
      "2032 : 壬子年。sky:8 - ground0\n",
      "2033 : 癸丑年。sky:9 - ground1\n",
      "2034 : 甲寅年。sky:0 - ground2\n",
      "2035 : 乙卯年。sky:1 - ground3\n",
      "2036 : 丙辰年。sky:2 - ground4\n",
      "2037 : 丁巳年。sky:3 - ground5\n",
      "2038 : 戊午年。sky:4 - ground6\n",
      "2039 : 己未年。sky:5 - ground7\n",
      "2040 : 庚申年。sky:6 - ground8\n",
      "2041 : 辛酉年。sky:7 - ground9\n",
      "2042 : 壬戌年。sky:8 - ground10\n",
      "2043 : 癸亥年。sky:9 - ground11\n",
      "2044 : 甲子年。sky:0 - ground0\n",
      "2045 : 乙丑年。sky:1 - ground1\n",
      "2046 : 丙寅年。sky:2 - ground2\n",
      "2047 : 丁卯年。sky:3 - ground3\n",
      "2048 : 戊辰年。sky:4 - ground4\n",
      "2049 : 己巳年。sky:5 - ground5\n",
      "2050 : 庚午年。sky:6 - ground6\n",
      "2051 : 辛未年。sky:7 - ground7\n",
      "2052 : 壬申年。sky:8 - ground8\n",
      "2053 : 癸酉年。sky:9 - ground9\n",
      "2054 : 甲戌年。sky:0 - ground10\n",
      "2055 : 乙亥年。sky:1 - ground11\n",
      "2056 : 丙子年。sky:2 - ground0\n",
      "2057 : 丁丑年。sky:3 - ground1\n",
      "2058 : 戊寅年。sky:4 - ground2\n",
      "2059 : 己卯年。sky:5 - ground3\n",
      "2060 : 庚辰年。sky:6 - ground4\n",
      "2061 : 辛巳年。sky:7 - ground5\n",
      "2062 : 壬午年。sky:8 - ground6\n",
      "2063 : 癸未年。sky:9 - ground7\n",
      "2064 : 甲申年。sky:0 - ground8\n",
      "2065 : 乙酉年。sky:1 - ground9\n",
      "2066 : 丙戌年。sky:2 - ground10\n",
      "2067 : 丁亥年。sky:3 - ground11\n",
      "2068 : 戊子年。sky:4 - ground0\n",
      "2069 : 己丑年。sky:5 - ground1\n",
      "2070 : 庚寅年。sky:6 - ground2\n",
      "2071 : 辛卯年。sky:7 - ground3\n",
      "2072 : 壬辰年。sky:8 - ground4\n",
      "2073 : 癸巳年。sky:9 - ground5\n"
     ]
    }
   ],
   "source": [
    "天干 = \"甲乙丙丁戊己庚辛壬癸\"\n",
    "地支 = \"子丑寅卯辰巳午未申酉戌亥\"\n",
    "#2014 = 天干[0]+地支[6]\n",
    "sky = 0\n",
    "ground =  6\n",
    "year = 14\n",
    "for i in 天干 :\n",
    "    for y in 地支 :         \n",
    "        if year <= 73 :    \n",
    "            print(\"20{} : {}{}年。sky:{} - ground{}\".format(year,天干[sky],地支[ground],sky,ground))\n",
    "            year = year+1\n",
    "            sky = sky+1\n",
    "            if sky >= int(len(天干)) :\n",
    "                sky= 0\n",
    "            ground = ground +1\n",
    "            if ground >= int(len(地支)):\n",
    "                ground = 0\n",
    " "
   ]
  },
  {
   "cell_type": "markdown",
   "metadata": {},
   "source": [
    "# 挑戰題二【我有一棵樹】：\n",
    "\n",
    "### 寫個 tree 函數, 給一個數字就會畫出如下的畫面。\n",
    "\n",
    "### tree(6)\n",
    "\n",
    "![tree(6)](tree.jpg)"
   ]
  },
  {
   "cell_type": "code",
   "execution_count": 118,
   "metadata": {},
   "outputs": [
    {
     "name": "stdout",
     "output_type": "stream",
     "text": [
      "      *\n",
      "     ***\n",
      "    *****\n",
      "   *******\n",
      "  *********\n",
      " ***********\n",
      "*************\n"
     ]
    }
   ],
   "source": [
    "s = 1\n",
    "x = 6\n",
    "while s <= 11 :\n",
    "    while x >= 0 :\n",
    "        print(\" \"*x +  \"*\"*s)\n",
    "        s = s + 2\n",
    "        x = x - 1"
   ]
  },
  {
   "cell_type": "code",
   "execution_count": null,
   "metadata": {
    "collapsed": true
   },
   "outputs": [],
   "source": []
  },
  {
   "cell_type": "code",
   "execution_count": null,
   "metadata": {
    "collapsed": true
   },
   "outputs": [],
   "source": []
  }
 ],
 "metadata": {
  "kernelspec": {
   "display_name": "Python 3",
   "language": "python",
   "name": "python3"
  },
  "language_info": {
   "codemirror_mode": {
    "name": "ipython",
    "version": 3
   },
   "file_extension": ".py",
   "mimetype": "text/x-python",
   "name": "python",
   "nbconvert_exporter": "python",
   "pygments_lexer": "ipython3",
   "version": "3.6.3"
  }
 },
 "nbformat": 4,
 "nbformat_minor": 2
}

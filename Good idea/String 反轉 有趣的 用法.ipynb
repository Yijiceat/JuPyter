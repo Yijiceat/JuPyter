{
 "cells": [
  {
   "cell_type": "markdown",
   "metadata": {},
   "source": [
    "# String 反轉 有趣的 用法\n",
    "\n",
    "## 重點提示[start :end :step]\n",
    "\n",
    "### 以下參考資料\n",
    "\n",
    "In [1]: string = \"Howdy doody\"\n",
    "\n",
    "In [2]: string[::]\n",
    "Out[2]: 'Howdy doody'\n",
    "\n",
    "In [3]: string[::-1]\n",
    "Out[3]: 'ydood ydwoH'\n",
    "\n",
    "In [4]: string[0:]    \n",
    "Out[4]: 'Howdy doody'\n",
    "\n",
    "In [5]: string[0::-1]\n",
    "Out[5]: 'H'     # what up with this?\n",
    "\n",
    "In [6]: string[:len(string)]\n",
    "Out[6]: 'Howdy doody'\n",
    "\n",
    "In [7]: string[:len(string):-1]\n",
    "Out[7]: ''     # what up with this too?\n",
    "\n",
    "In [8]: string[0:len(string)]\n",
    "Out[8]: 'Howdy doody'\n",
    "\n",
    "In [9]: string[0:len(string):-1]\n",
    "Out[9]: ''    # And what up here too.\n",
    "\n",
    "\n",
    "\n",
    "Slice notation \"[a:b:c]\" means \"count in increments of c starting at a inclusive, up to b exclusive\". If c is negative you count backwards, if omitted it is 1. If a is omitted then you start as far as possible in the direction you're counting from (so that's the start if c is positive and the end if negative). If b is omitted then you end as far as possible in the direction you're counting to (so that's the end if c is positive and the start if negative). If a or b is negative it's an offset from the end (-1 being the last character) instead of the start.\n",
    "\n",
    "OK, so string[0::-1] is one character, it says \"count backwards from index 0 as far as you can\". As far as it can is the start of the string.\n",
    "\n",
    "string[0:len(string):-1] or for that matter string[0:anything:-1] is subtly different. It's empty for the same reason that string[1:0] is empty. The designated end of the slice cannot be reached from the start. You can think of this as the slice having ended \"before\" it began (hence is empty), or you can think of the end point being automatically adjusted to be equal to the start point (hence the slice is empty).\n",
    "\n",
    "string[:len(string):-1] means \"count backwards from the end up to but not including index len(string)\". That index can't be reached, so the slice is empty.\n",
    "\n",
    "You didn't try string[:0:-1], but that means \"count backwards from the end up to but not including index 0\". So that's all except the first character, reversed. [:0:-1] is to [::-1] as [0:len(string)-1] is to [:]. In both cases the excluded end of the slice is the index that would have been the included last character of the slice with the end omitted.\n",
    "\n",
    "You also didn't try string[-1::-1], which is the same as string[::-1] because -1 means the last character of the string."
   ]
  },
  {
   "cell_type": "code",
   "execution_count": 3,
   "metadata": {},
   "outputs": [
    {
     "name": "stdout",
     "output_type": "stream",
     "text": [
      ">>> 579234\n",
      "432975\n"
     ]
    }
   ],
   "source": [
    "def reverse(string):\n",
    "    return string[::-1]  #[ start : end : step=步進值 ] \n",
    "_str_ = input(\">>> \")\n",
    "\n",
    "print(reverse(_str_))\n"
   ]
  },
  {
   "cell_type": "code",
   "execution_count": null,
   "metadata": {},
   "outputs": [],
   "source": []
  },
  {
   "cell_type": "code",
   "execution_count": null,
   "metadata": {
    "collapsed": true
   },
   "outputs": [],
   "source": []
  },
  {
   "cell_type": "code",
   "execution_count": null,
   "metadata": {
    "collapsed": true
   },
   "outputs": [],
   "source": []
  }
 ],
 "metadata": {
  "kernelspec": {
   "display_name": "Python 3",
   "language": "python",
   "name": "python3"
  },
  "language_info": {
   "codemirror_mode": {
    "name": "ipython",
    "version": 3
   },
   "file_extension": ".py",
   "mimetype": "text/x-python",
   "name": "python",
   "nbconvert_exporter": "python",
   "pygments_lexer": "ipython3",
   "version": "3.6.3"
  }
 },
 "nbformat": 4,
 "nbformat_minor": 2
}

{
 "cells": [
  {
   "cell_type": "markdown",
   "metadata": {},
   "source": [
    "# 第一題【猜數字遊戲】：\n",
    "### 電腦由 1 到 100 「想」一個數字。\n",
    "### 你開始猜電腦想的數字, 太大或大小電腦會告訴你, 直到猜對。"
   ]
  },
  {
   "cell_type": "code",
   "execution_count": null,
   "metadata": {},
   "outputs": [],
   "source": [
    "%pylab inline"
   ]
  },
  {
   "cell_type": "markdown",
   "metadata": {},
   "source": [
    "# 失敗品"
   ]
  },
  {
   "cell_type": "code",
   "execution_count": null,
   "metadata": {},
   "outputs": [],
   "source": [
    "print (\"這是一個猜數字遊戲，請輸入一組數字(1~100)\")\n",
    "message = input('>> ')\n",
    "i = 0\n",
    "try:\n",
    "    i = int(message)\n",
    "    i = 1\n",
    "except :\n",
    "    print(\"請輸入數字喔!!\")\n",
    "while i == 1 :\n",
    "    k = randint(0,101)\n",
    "    start = 0\n",
    "    end = 100\n",
    "    while int(message) != int(k) :\n",
    "        if int(message) > int(k) :\n",
    "            end = int(message)-1\n",
    "            print(\"猜錯了喔!!數字介於{}及{}之間唷!!\".format(start,end))        \n",
    "            message = input('>> ')\n",
    "        elif int(message) < int(k) :\n",
    "            start = int(message)+1\n",
    "            print(\"猜錯了喔!!數字介於{}及{}之間唷!!\".format(start,end))\n",
    "            message = input('>> ')\n",
    "#    else start = end :\n",
    "#            print(\"答案很明顯囉~就是{}\".format(start))\n",
    "if i == 1 :\n",
    "    print(\"恭喜你猜對了~\")\n",
    "else :\n",
    "    print(\"輸入錯誤，程式結束\")"
   ]
  },
  {
   "cell_type": "markdown",
   "metadata": {
    "collapsed": true
   },
   "source": [
    "# 第二題【感恩讚嘆機器人】：\n",
    "### 請依照老師本週影片的作法，\n",
    "### 製作出感恩讚嘆機器人，\n",
    "### 也就是回應的格式一律是：\n",
    "### 「感恩ＯＯ，讚嘆ＯＯ。」"
   ]
  },
  {
   "cell_type": "code",
   "execution_count": null,
   "metadata": {},
   "outputs": [],
   "source": [
    "message = input(\">> \")\n",
    "seafood = \"炎龍\"\n",
    "print (\"感恩{}，讚嘆{}\".format(seafood,seafood))"
   ]
  },
  {
   "cell_type": "markdown",
   "metadata": {
    "collapsed": true
   },
   "source": [
    "# 第三題 【寫個函數讓字串倒過來排】：\n",
    "### 寫一個函數, 比如說叫 reverse,\n",
    "\n",
    "### 然後輸入一個字串, st = “hello”\n",
    "\n",
    "### reverse(“hello”) 就回傳這個字串 ‘olleh’"
   ]
  },
  {
   "cell_type": "code",
   "execution_count": null,
   "metadata": {},
   "outputs": [],
   "source": [
    "message = input(\">> \")\n",
    "def reverse (message) :\n",
    "    r = ''\n",
    "    for c in message :\n",
    "        r = c + r \n",
    "    return r\n",
    "print(reverse(message))   "
   ]
  },
  {
   "cell_type": "markdown",
   "metadata": {},
   "source": [
    "# 挑戰題一【天干地支】：\n",
    "\n",
    "### 年份是用天干地支\n",
    "\n",
    "#### 天干:甲乙丙丁戊己庚辛壬癸\n",
    "\n",
    "#### 地支:子丑寅卯辰巳午未申酉戌亥\n",
    "\n",
    "#### 2014年是甲午年 > 2015年是乙未年\n",
    "\n",
    "##### …\n",
    "\n",
    "##### 輸出2014~2073是什麼年"
   ]
  },
  {
   "cell_type": "code",
   "execution_count": null,
   "metadata": {},
   "outputs": [],
   "source": [
    "天干 = \"甲乙丙丁戊己庚辛壬癸\"\n",
    "地支 = \"子丑寅卯辰巳午未申酉戌亥\"\n",
    "#2014 = 天干[0]+地支[6]\n",
    "sky = 0\n",
    "ground =  6\n",
    "year = 14\n",
    "for i in 天干 :\n",
    "    for y in 地支 :         \n",
    "        if year <= 73 :    \n",
    "            print(\"20{} : {}{}年。sky:{} - ground{}\".format(year,天干[sky],地支[ground],sky,ground))\n",
    "            year = year+1\n",
    "            sky = sky+1\n",
    "            if sky >= int(len(天干)) :\n",
    "                sky= 0\n",
    "            ground = ground +1\n",
    "            if ground >= int(len(地支)):\n",
    "                ground = 0\n",
    " "
   ]
  },
  {
   "cell_type": "markdown",
   "metadata": {},
   "source": [
    "# 挑戰題二【我有一棵樹】：\n",
    "\n",
    "### 寫個 tree 函數, 給一個數字就會畫出如下的畫面。\n",
    "\n",
    "### tree(6)\n",
    "\n",
    "![tree(6)](tree.jpg)"
   ]
  },
  {
   "cell_type": "code",
   "execution_count": 1,
   "metadata": {},
   "outputs": [
    {
     "name": "stdout",
     "output_type": "stream",
     "text": [
      "      *\n",
      "     ***\n",
      "    *****\n",
      "   *******\n",
      "  *********\n",
      " ***********\n"
     ]
    }
   ],
   "source": [
    "def tree(num):\n",
    "    for i in range(num):\n",
    "        print(' '*(num-i-1)+'*'*(i*2+1))"
   ]
  },
  {
   "cell_type": "code",
   "execution_count": null,
   "metadata": {
    "collapsed": true
   },
   "outputs": [],
   "source": []
  },
  {
   "cell_type": "code",
   "execution_count": null,
   "metadata": {
    "collapsed": true
   },
   "outputs": [],
   "source": []
  }
 ],
 "metadata": {
  "kernelspec": {
   "display_name": "Python 3",
   "language": "python",
   "name": "python3"
  },
  "language_info": {
   "codemirror_mode": {
    "name": "ipython",
    "version": 3
   },
   "file_extension": ".py",
   "mimetype": "text/x-python",
   "name": "python",
   "nbconvert_exporter": "python",
   "pygments_lexer": "ipython3",
   "version": "3.6.3"
  }
 },
 "nbformat": 4,
 "nbformat_minor": 2
}

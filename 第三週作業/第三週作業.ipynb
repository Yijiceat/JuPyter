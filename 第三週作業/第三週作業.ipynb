{
 "cells": [
  {
   "cell_type": "markdown",
   "metadata": {},
   "source": [
    "##### 第一題：\n",
    "##### 題目：給定一個矩陣m，裡面的值都大於0。\n",
    "##### 請將矩陣m裡大於等於1的數字都變成1，小於1的變成0。\n",
    " \n",
    "##### m = np.array([[0,1,10],[2,6,7]])\n",
    " \n",
    "##### 提示：使用巢狀迴圈(nested loop)加判斷式"
   ]
  },
  {
   "cell_type": "code",
   "execution_count": 2,
   "metadata": {
    "collapsed": true
   },
   "outputs": [],
   "source": [
    "%matplotlib inline\n",
    "import numpy as np\n",
    "import matplotlib.pyplot as plt"
   ]
  },
  {
   "cell_type": "code",
   "execution_count": 24,
   "metadata": {},
   "outputs": [
    {
     "data": {
      "text/plain": [
       "array([[0, 1, 1],\n",
       "       [1, 1, 1]])"
      ]
     },
     "execution_count": 24,
     "metadata": {},
     "output_type": "execute_result"
    }
   ],
   "source": [
    "m = np.array([[0, 1, 10],[2, 6, 7]])\n",
    "for x in m[m>=1]:\n",
    "    m[m>=1] = 1\n",
    "    for y in m[m<1]:\n",
    "        m[m<1] = 0\n",
    "m"
   ]
  },
  {
   "cell_type": "code",
   "execution_count": 47,
   "metadata": {},
   "outputs": [
    {
     "name": "stdout",
     "output_type": "stream",
     "text": [
      "[[-59  66 -79]\n",
      " [ 10 -59  70]]\n"
     ]
    },
    {
     "data": {
      "text/plain": [
       "array([[0, 1, 0],\n",
       "       [1, 0, 1]])"
      ]
     },
     "execution_count": 47,
     "metadata": {},
     "output_type": "execute_result"
    }
   ],
   "source": [
    "randm = np.random.randint(-100, 100, (2,3))\n",
    "print(randm)\n",
    "for x in randm[randm>=1]:\n",
    "    randm[randm>=1] = 1\n",
    "    for y in randm[randm<1]:\n",
    "        randm[randm<1] = 0\n",
    "randm"
   ]
  },
  {
   "cell_type": "markdown",
   "metadata": {},
   "source": [
    "##### 第二題：\n",
    "##### 有A,B,C三個班級，每班皆有10個學生，\n",
    "##### 期中考結束後，老師希望計算各班級每位學生的加權平均成績。 \n",
    "##### 請隨機產生3個班級的成績單,每班10人,共五科,\n",
    "##### 權重為weights=[0.25,0.25,0.25,0.15,0.10]。\n",
    "##### 請算出班級加權平均成績，並以一個array輸出。"
   ]
  },
  {
   "cell_type": "code",
   "execution_count": 96,
   "metadata": {},
   "outputs": [
    {
     "name": "stdout",
     "output_type": "stream",
     "text": [
      "[97  1  4 65  4 13 96 26 96 19 43  2 50 12 42 11 14 34 74 89 47  3 59 57 27\n",
      "  1 78 17 56 77 48 60  0 34 20 35  0 89 55 14 81 83 48 83 13 31 18  5 72 73\n",
      " 31 68 53 94 61 32 70 62 48 45 73  1 14 98 56  3 41 33 17 47 91  7 91 25 42\n",
      " 33 20  3 59 27 67 34 39  7 64 63 92 69 39 88 51  1 35  9 19 35 35 92 26 54\n",
      " 73 60  1  6 13 59 51  4 55 64 27 51 65 28 27 31 53 81 63 58 27  6 60 57 46\n",
      " 55 91 57 43 46 92  0 21 72 49 10 97  4 41 26 34  3 76 38  6 95 40 56 90 17]\n"
     ]
    },
    {
     "data": {
      "text/plain": [
       "array([[[ 24.25,   0.25,   1.  ,   9.75,   0.4 ],\n",
       "        [  3.25,  24.  ,   6.5 ,  14.4 ,   1.9 ],\n",
       "        [ 10.75,   0.5 ,  12.5 ,   1.8 ,   4.2 ],\n",
       "        [  2.75,   3.5 ,   8.5 ,  11.1 ,   8.9 ],\n",
       "        [ 11.75,   0.75,  14.75,   8.55,   2.7 ],\n",
       "        [  0.25,  19.5 ,   4.25,   8.4 ,   7.7 ],\n",
       "        [ 12.  ,  15.  ,   0.  ,   5.1 ,   2.  ],\n",
       "        [  8.75,   0.  ,  22.25,   8.25,   1.4 ],\n",
       "        [ 20.25,  20.75,  12.  ,  12.45,   1.3 ],\n",
       "        [  7.75,   4.5 ,   1.25,  10.8 ,   7.3 ]],\n",
       "\n",
       "       [[  7.75,  17.  ,  13.25,  14.1 ,   6.1 ],\n",
       "        [  8.  ,  17.5 ,  15.5 ,   7.2 ,   4.5 ],\n",
       "        [ 18.25,   0.25,   3.5 ,  14.7 ,   5.6 ],\n",
       "        [  0.75,  10.25,   8.25,   2.55,   4.7 ],\n",
       "        [ 22.75,   1.75,  22.75,   3.75,   4.2 ],\n",
       "        [  8.25,   5.  ,   0.75,   8.85,   2.7 ],\n",
       "        [ 16.75,   8.5 ,   9.75,   1.05,   6.4 ],\n",
       "        [ 15.75,  23.  ,  17.25,   5.85,   8.8 ],\n",
       "        [ 12.75,   0.25,   8.75,   1.35,   1.9 ],\n",
       "        [  8.75,   8.75,  23.  ,   3.9 ,   5.4 ]],\n",
       "\n",
       "       [[ 18.25,  15.  ,   0.25,   0.9 ,   1.3 ],\n",
       "        [ 14.75,  12.75,   1.  ,   8.25,   6.4 ],\n",
       "        [  6.75,  12.75,  16.25,   4.2 ,   2.7 ],\n",
       "        [  7.75,  13.25,  20.25,   9.45,   5.8 ],\n",
       "        [  6.75,   1.5 ,  15.  ,   8.55,   4.6 ],\n",
       "        [ 13.75,  22.75,  14.25,   6.45,   4.6 ],\n",
       "        [ 23.  ,   0.  ,   5.25,  10.8 ,   4.9 ],\n",
       "        [  2.5 ,  24.25,   1.  ,   6.15,   2.6 ],\n",
       "        [  8.5 ,   0.75,  19.  ,   5.7 ,   0.6 ],\n",
       "        [ 23.75,  10.  ,  14.  ,  13.5 ,   1.7 ]]])"
      ]
     },
     "execution_count": 96,
     "metadata": {},
     "output_type": "execute_result"
    }
   ],
   "source": [
    "grades = np.random.randint(0, 100, 3*5*10)\n",
    "weights = np.array([0.25,0.25,0.25,0.15,0.10])\n",
    "print(grades)\n",
    "reshape_grades  = grades.reshape(3,10,5)\n",
    "g = reshape_grades * weights\n",
    "g"
   ]
  },
  {
   "cell_type": "code",
   "execution_count": 95,
   "metadata": {},
   "outputs": [
    {
     "data": {
      "text/plain": [
       "(6.2000000000000002, 0.25)"
      ]
     },
     "execution_count": 95,
     "metadata": {},
     "output_type": "execute_result"
    }
   ],
   "source": [
    "g[2][9][4],g[0][0][0]"
   ]
  },
  {
   "cell_type": "code",
   "execution_count": 106,
   "metadata": {},
   "outputs": [
    {
     "data": {
      "text/plain": [
       "array([[ 35.96,  36.  ,  30.32,  25.56,  23.6 ,  11.2 ,  17.84,  32.92,\n",
       "         34.48,  21.48,  19.84,  13.44,  10.24,  31.68,  34.92,  32.64,\n",
       "         17.84,  12.44,  23.36,  19.4 ,  24.56,  12.92,  30.56,  39.64,\n",
       "         28.08,  41.28,  12.04,  40.96,  38.12,  12.12],\n",
       "       [ 11.2 ,  37.36,  40.52,  14.2 ,  35.2 ,  24.2 ,  34.12,  13.92,\n",
       "          6.36,   7.64,  16.16,  22.44,  20.68,  37.12,  10.12,  36.64,\n",
       "         21.16,  19.96,   7.04,  21.6 ,  48.68,  18.88,  30.36,  18.92,\n",
       "         15.96,  37.44,  21.84,  23.8 ,  39.36,  13.68],\n",
       "       [ 13.  ,  34.44,  11.2 ,  34.64,  20.16,  34.12,  30.56,  22.52,\n",
       "         28.16,  17.88,  29.04,   3.04,  23.76,   9.6 ,  20.88,  11.8 ,\n",
       "         21.56,  13.92,  29.6 ,  40.96,  20.36,  38.44,  35.32,  30.96,\n",
       "         13.76,  35.52,  35.6 ,  35.44,  31.6 ,  16.96]])"
      ]
     },
     "execution_count": 106,
     "metadata": {},
     "output_type": "execute_result"
    }
   ],
   "source": [
    "AdvCal = np.random.randint(0, 100, 3*30*3)\n",
    "weights_1 = np.array([0.2, 0.35, 0.45])\n",
    "weights_2 = np.array([0 , 0.4, 0.6])\n",
    "reshape_AdvCal  = AdvCal.reshape(3,30,3)\n",
    "g_end1 = reshape_AdvCal * weights_1 \n",
    "\n",
    "g_end2 = reshape_AdvCal * weights_2\n",
    "\n",
    "g_end1_dot =  np.dot(g_end1, weights_1)\n",
    "\n",
    "g_end2_dot =  np.dot(g_end2, weights_2)\n",
    "\n",
    "g_end2_dot"
   ]
  },
  {
   "cell_type": "code",
   "execution_count": null,
   "metadata": {
    "collapsed": true
   },
   "outputs": [],
   "source": []
  }
 ],
 "metadata": {
  "kernelspec": {
   "display_name": "Python 3",
   "language": "python",
   "name": "python3"
  },
  "language_info": {
   "codemirror_mode": {
    "name": "ipython",
    "version": 3
   },
   "file_extension": ".py",
   "mimetype": "text/x-python",
   "name": "python",
   "nbconvert_exporter": "python",
   "pygments_lexer": "ipython3",
   "version": "3.6.3"
  }
 },
 "nbformat": 4,
 "nbformat_minor": 2
}

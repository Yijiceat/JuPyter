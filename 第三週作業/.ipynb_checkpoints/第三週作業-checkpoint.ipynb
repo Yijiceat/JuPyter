{
 "cells": [
  {
   "cell_type": "markdown",
   "metadata": {},
   "source": [
    "##### 第一題：\n",
    "##### 題目：給定一個矩陣m，裡面的值都大於0。\n",
    "##### 請將矩陣m裡大於等於1的數字都變成1，小於1的變成0。\n",
    " \n",
    "##### m = np.array([[0,1,10],[2,6,7]])\n",
    " \n",
    "##### 提示：使用巢狀迴圈(nested loop)加判斷式"
   ]
  },
  {
   "cell_type": "code",
   "execution_count": 2,
   "metadata": {
    "collapsed": true
   },
   "outputs": [],
   "source": [
    "%matplotlib inline\n",
    "import numpy as np\n",
    "import matplotlib.pyplot as plt"
   ]
  },
  {
   "cell_type": "code",
   "execution_count": 24,
   "metadata": {},
   "outputs": [
    {
     "data": {
      "text/plain": [
       "array([[0, 1, 1],\n",
       "       [1, 1, 1]])"
      ]
     },
     "execution_count": 24,
     "metadata": {},
     "output_type": "execute_result"
    }
   ],
   "source": [
    "m = np.array([[0, 1, 10],[2, 6, 7]])\n",
    "for x in m[m>=1]:\n",
    "    m[m>=1] = 1\n",
    "    for y in m[m<1]:\n",
    "        m[m<1] = 0\n",
    "m"
   ]
  },
  {
   "cell_type": "code",
   "execution_count": 47,
   "metadata": {},
   "outputs": [
    {
     "name": "stdout",
     "output_type": "stream",
     "text": [
      "[[-59  66 -79]\n",
      " [ 10 -59  70]]\n"
     ]
    },
    {
     "data": {
      "text/plain": [
       "array([[0, 1, 0],\n",
       "       [1, 0, 1]])"
      ]
     },
     "execution_count": 47,
     "metadata": {},
     "output_type": "execute_result"
    }
   ],
   "source": [
    "randm = np.random.randint(-100, 100, (2,3))\n",
    "print(randm)\n",
    "for x in randm[randm>=1]:\n",
    "    randm[randm>=1] = 1\n",
    "    for y in randm[randm<1]:\n",
    "        randm[randm<1] = 0\n",
    "randm"
   ]
  },
  {
   "cell_type": "markdown",
   "metadata": {},
   "source": [
    "##### 第二題：\n",
    "##### 有A,B,C三個班級，每班皆有10個學生，\n",
    "##### 期中考結束後，老師希望計算各班級每位學生的加權平均成績。 \n",
    "##### 請隨機產生3個班級的成績單,每班10人,共五科,\n",
    "##### 權重為weights=[0.25,0.25,0.25,0.15,0.10]。\n",
    "##### 請算出班級加權平均成績，並以一個array輸出。"
   ]
  },
  {
   "cell_type": "code",
   "execution_count": 79,
   "metadata": {},
   "outputs": [
    {
     "data": {
      "text/plain": [
       "array([[[  0.25,  21.25,  23.  ,  10.5 ,   6.2 ],\n",
       "        [ 24.25,   0.25,   8.25,   4.05,   2.3 ],\n",
       "        [  9.  ,  11.75,  14.75,  11.55,   0.3 ],\n",
       "        [ 23.  ,   4.25,   5.  ,  14.25,   5.4 ],\n",
       "        [  5.75,   0.5 ,  20.25,   6.  ,   3.  ],\n",
       "        [  4.75,  16.5 ,   7.25,   8.7 ,   8.1 ],\n",
       "        [ 18.  ,  24.  ,   6.  ,  14.7 ,   8.9 ],\n",
       "        [ 24.75,  13.75,   4.25,  13.35,   1.4 ],\n",
       "        [  9.25,   6.25,  15.5 ,   9.3 ,   6.7 ],\n",
       "        [ 12.5 ,  24.75,  13.5 ,  12.  ,   6.  ]],\n",
       "\n",
       "       [[ 12.5 ,  13.  ,  14.5 ,   9.  ,   9.6 ],\n",
       "        [  6.5 ,  10.  ,  22.  ,   9.  ,   8.6 ],\n",
       "        [ 23.5 ,   4.5 ,  18.25,  12.  ,   8.6 ],\n",
       "        [  5.75,   7.25,  18.75,   9.15,   5.2 ],\n",
       "        [ 21.  ,  18.25,   3.25,   7.8 ,   8.1 ],\n",
       "        [ 16.  ,  18.75,  10.25,  14.4 ,   2.  ],\n",
       "        [ 13.  ,   3.25,  10.5 ,   8.7 ,   7.  ],\n",
       "        [  5.25,  23.75,   0.25,  14.85,   7.6 ],\n",
       "        [  1.  ,   1.5 ,   4.  ,  10.95,   5.2 ],\n",
       "        [ 21.25,  14.25,   9.75,  11.4 ,   9.  ]],\n",
       "\n",
       "       [[ 13.75,  18.75,  21.25,  14.1 ,   9.4 ],\n",
       "        [ 21.  ,   9.25,   8.25,   3.6 ,   3.7 ],\n",
       "        [  0.25,   8.  ,  15.5 ,   6.6 ,   3.8 ],\n",
       "        [ 17.25,  23.5 ,   2.  ,  12.75,   9.2 ],\n",
       "        [ 14.75,  16.75,   0.25,   5.55,   0.1 ],\n",
       "        [  9.5 ,  21.  ,  15.5 ,   5.1 ,   4.8 ],\n",
       "        [ 22.5 ,  17.5 ,  11.75,  11.55,   7.9 ],\n",
       "        [ 16.5 ,   1.25,   2.5 ,   1.5 ,   2.6 ],\n",
       "        [ 13.75,   2.5 ,   8.  ,  14.1 ,   0.2 ],\n",
       "        [ 21.75,  15.75,  22.75,   6.  ,   6.2 ]]])"
      ]
     },
     "execution_count": 79,
     "metadata": {},
     "output_type": "execute_result"
    }
   ],
   "source": [
    "grades = np.random.randint(0, 100, 3*5*10)\n",
    "weights = np.array([0.25,0.25,0.25,0.15,0.10])\n",
    "\n",
    "reshape_grades  = grades.reshape(3,10,5)\n",
    "g = reshape_grades * weights\n",
    "g"
   ]
  },
  {
   "cell_type": "code",
   "execution_count": null,
   "metadata": {},
   "outputs": [],
   "source": []
  },
  {
   "cell_type": "code",
   "execution_count": null,
   "metadata": {
    "collapsed": true
   },
   "outputs": [],
   "source": []
  }
 ],
 "metadata": {
  "kernelspec": {
   "display_name": "Python 3",
   "language": "python",
   "name": "python3"
  },
  "language_info": {
   "codemirror_mode": {
    "name": "ipython",
    "version": 3
   },
   "file_extension": ".py",
   "mimetype": "text/x-python",
   "name": "python",
   "nbconvert_exporter": "python",
   "pygments_lexer": "ipython3",
   "version": "3.6.3"
  }
 },
 "nbformat": 4,
 "nbformat_minor": 2
}
